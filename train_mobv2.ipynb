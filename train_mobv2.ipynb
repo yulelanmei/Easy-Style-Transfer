{
 "cells": [
  {
   "cell_type": "markdown",
   "metadata": {},
   "source": [
    "导入包"
   ]
  },
  {
   "cell_type": "code",
   "execution_count": null,
   "metadata": {},
   "outputs": [],
   "source": [
    "import torch\n",
    "from mainNet import EstNet\n",
    "from dataloader import ImageLoder\n",
    "from torch.utils.data import DataLoader, random_split\n",
    "from lossFunction import Gram_Style_Loss, Content_Loss, TV_Loss\n",
    "from tqdm import tqdm\n",
    "import utils\n",
    "# from torchmetrics import MeanAbsoluteError\n",
    "# import numpy as np"
   ]
  },
  {
   "cell_type": "markdown",
   "metadata": {},
   "source": [
    "设置cudnn是否关闭自动优化，训练设备"
   ]
  },
  {
   "cell_type": "code",
   "execution_count": null,
   "metadata": {},
   "outputs": [],
   "source": [
    "# torch.backends.cudnn.benchmark = True\n",
    "device = 'cuda'"
   ]
  },
  {
   "cell_type": "markdown",
   "metadata": {},
   "source": [
    "加载网络，预载权重"
   ]
  },
  {
   "cell_type": "code",
   "execution_count": null,
   "metadata": {},
   "outputs": [],
   "source": [
    "load_model_name = 'EstNet'\n",
    "load_model_version = 'alpha_0.1'\n",
    "ESTNet = EstNet().to(device)\n",
    "# ESTNet = EstNet(load_preTrained_model= f'./pretrained_models/{load_model_name}_{load_model_version}.pth').to(device)"
   ]
  },
  {
   "cell_type": "markdown",
   "metadata": {},
   "source": [
    "加载数据：训练集、验证集、测试集"
   ]
  },
  {
   "cell_type": "code",
   "execution_count": null,
   "metadata": {},
   "outputs": [],
   "source": [
    "# 82783 items of coco2014\n",
    "dataset_usage = 1.\n",
    "used_items_num = round(82783 * dataset_usage)\n",
    "coco2014 = ImageLoder(r\"./data\\train2014\", \n",
    "                        datanum= used_items_num, \n",
    "                        if_random= False,\n",
    "                        preload= False, \n",
    "                        resize= 224, \n",
    "                        normalized= True, \n",
    "                        std= 0.5, mean= 0.5, \n",
    "                        double_output= True)\n",
    "\n",
    "print('used_items_num: ', len(coco2014))\n",
    "random_seed = 2014\n",
    "train_data_rate = 0.8\n",
    "train_items_num = round(train_data_rate * used_items_num) \n",
    "eval_data_rate = 0.1\n",
    "eval_items_num = round(eval_data_rate * used_items_num)\n",
    "\n",
    "test_items_num = used_items_num - train_items_num - eval_items_num\n",
    "train_dataset, eval_dataset, test_dataset = random_split(dataset= coco2014, lengths= [train_items_num, eval_items_num, test_items_num], \n",
    "                                           generator= torch.Generator('cpu').manual_seed(random_seed))\n",
    "\n",
    "train_dataloader = DataLoader(dataset= train_dataset,  \n",
    "                            batch_size= 4, \n",
    "                            shuffle= True, \n",
    "                            num_workers= 4,\n",
    "                            pin_memory= True, \n",
    "                            prefetch_factor= 2,)\n",
    "\n",
    "eval_dataloader = DataLoader(dataset= eval_dataset, \n",
    "                            batch_size= 4, \n",
    "                            shuffle= True, \n",
    "                            num_workers= 4,\n",
    "                            pin_memory= True, \n",
    "                            prefetch_factor= 2,)\n",
    "\n",
    "test_dataloader = DataLoader(dataset= test_dataset, \n",
    "                            batch_size= 4, \n",
    "                            shuffle= True, \n",
    "                            num_workers= 4,\n",
    "                            pin_memory= True, \n",
    "                            prefetch_factor= 2,)"
   ]
  },
  {
   "cell_type": "markdown",
   "metadata": {},
   "source": [
    "加载优化器、训练调整器、损失函数"
   ]
  },
  {
   "cell_type": "code",
   "execution_count": null,
   "metadata": {},
   "outputs": [],
   "source": [
    "optimizer = torch.optim.Adam(ESTNet.parameters(), lr= 0.001)"
   ]
  },
  {
   "cell_type": "code",
   "execution_count": null,
   "metadata": {},
   "outputs": [],
   "source": [
    "scheduler = torch.optim.lr_scheduler.ReduceLROnPlateau(optimizer, mode= 'min', \n",
    "                                                    factor= 0.8, patience= 10, \n",
    "                                                    verbose= True, min_lr= 1e-4)"
   ]
  },
  {
   "cell_type": "code",
   "execution_count": null,
   "metadata": {},
   "outputs": [],
   "source": [
    "style_loss = Gram_Style_Loss().to(device)\n",
    "content_loss = Content_Loss().to(device)\n",
    "tv_loss = TV_Loss().to(device)"
   ]
  },
  {
   "cell_type": "markdown",
   "metadata": {},
   "source": [
    "设置总训练轮次，验证间隔轮次"
   ]
  },
  {
   "cell_type": "code",
   "execution_count": null,
   "metadata": {},
   "outputs": [],
   "source": [
    "epochs = 2\n",
    "eval_distance = 30"
   ]
  },
  {
   "cell_type": "markdown",
   "metadata": {},
   "source": [
    "训练及验证"
   ]
  },
  {
   "cell_type": "code",
   "execution_count": null,
   "metadata": {},
   "outputs": [],
   "source": [
    "ESTNet.train()\n",
    "train_log = []\n",
    "\n",
    "for e in range(epochs):\n",
    "    loss_all = 0\n",
    "    with tqdm(train_dataloader, desc= f'epoch{e}', leave= False, unit= 'batch') as t:\n",
    "        for c, s in t:\n",
    "            c = c.to(device)\n",
    "            s = s.to(device)\n",
    "            output = ESTNet(c, s)\n",
    "            \n",
    "            loss = style_loss(output, s) + content_loss(output, c) + tv_loss(output)\n",
    "            t.set_postfix_str(f'loss: {loss.item()}')\n",
    "            loss_all += loss.item()\n",
    "        \n",
    "            optimizer.zero_grad()\n",
    "            # loss.requires_grad_(True)\n",
    "            loss.backward()\n",
    "            optimizer.step()\n",
    "        t.write(f'epoch{e} loss_all: {loss_all}') \n",
    "    train_log.append(loss_all)\n",
    "    scheduler.step(loss_all)\n",
    "    "
   ]
  },
  {
   "cell_type": "markdown",
   "metadata": {},
   "source": [
    "训练过程可视化"
   ]
  },
  {
   "cell_type": "code",
   "execution_count": null,
   "metadata": {},
   "outputs": [],
   "source": [
    "utils.train_process_visualable(train_log)"
   ]
  },
  {
   "cell_type": "markdown",
   "metadata": {},
   "source": [
    "模型保存"
   ]
  },
  {
   "cell_type": "code",
   "execution_count": null,
   "metadata": {},
   "outputs": [],
   "source": [
    "save_model_name = 'EstNet'\n",
    "save_model_version = 'beta_0.1'\n",
    "torch.save(ESTNet.state_dict(), f'./pretrained_models/{save_model_name}_{save_model_version}.pth')"
   ]
  },
  {
   "cell_type": "markdown",
   "metadata": {},
   "source": [
    "测试"
   ]
  },
  {
   "cell_type": "code",
   "execution_count": null,
   "metadata": {},
   "outputs": [],
   "source": [
    "ESTNet.eval()\n"
   ]
  },
  {
   "cell_type": "markdown",
   "metadata": {},
   "source": [
    "结果测试"
   ]
  },
  {
   "cell_type": "code",
   "execution_count": null,
   "metadata": {},
   "outputs": [],
   "source": [
    "content_img = utils.get_pilimg(r'data/test/StarSky.jpg')\n",
    "style_img = utils.get_pilimg(r'data/test/Lenna.png')\n",
    "\n",
    "utils.img_display(content_img, 'content')\n",
    "utils.img_display(style_img, 'style')\n",
    "\n",
    "content_tensor = utils.pilimg2tensor(content_img, cuda= True, resize= (224, 224), mean= 0.5, std= 0.5)\n",
    "style_tensor = utils.pilimg2tensor(style_img, cuda= True, resize= (224, 224), mean= 0.5, std= 0.5)"
   ]
  },
  {
   "cell_type": "code",
   "execution_count": null,
   "metadata": {},
   "outputs": [],
   "source": [
    "ESTNet.eval()\n",
    "result_tensor = ESTNet(content_tensor, style_tensor)\n",
    "result_img = utils.tensor2img(result_tensor, mean= 0.5, std= 0.5)\n",
    "utils.img_display(result_img, 'test')"
   ]
  }
 ],
 "metadata": {
  "kernelspec": {
   "display_name": "pytorch",
   "language": "python",
   "name": "python3"
  },
  "language_info": {
   "codemirror_mode": {
    "name": "ipython",
    "version": 3
   },
   "file_extension": ".py",
   "mimetype": "text/x-python",
   "name": "python",
   "nbconvert_exporter": "python",
   "pygments_lexer": "ipython3",
   "version": "3.9.7"
  }
 },
 "nbformat": 4,
 "nbformat_minor": 2
}
