{
 "cells": [
  {
   "cell_type": "code",
   "execution_count": null,
   "metadata": {},
   "outputs": [],
   "source": [
    "import torch as th \n",
    "from torch.utils.data import DataLoader\n",
    "th.backends.cudnn.benchmark = True"
   ]
  },
  {
   "cell_type": "code",
   "execution_count": null,
   "metadata": {},
   "outputs": [],
   "source": [
    "from networks import * \n",
    "from mainNet import *\n",
    "from dataloader import CoCo\n",
    "from lossFunction import Decoder_Train_Loss\n",
    "import utils "
   ]
  },
  {
   "cell_type": "code",
   "execution_count": null,
   "metadata": {},
   "outputs": [],
   "source": [
    "from torch.utils.tensorboard import SummaryWriter"
   ]
  },
  {
   "cell_type": "code",
   "execution_count": null,
   "metadata": {},
   "outputs": [],
   "source": [
    "import matplotlib.pyplot as plt\n",
    "from PIL import Image\n",
    "from torchvision import transforms"
   ]
  },
  {
   "cell_type": "code",
   "execution_count": null,
   "metadata": {},
   "outputs": [],
   "source": [
    "train_net = Decoder_Train_Net(True).cuda().train()"
   ]
  },
  {
   "cell_type": "code",
   "execution_count": null,
   "metadata": {},
   "outputs": [],
   "source": [
    "dataset = DataLoader(dataset= CoCo(r\"./data\\train2014\", 1000), \n",
    "                     batch_size= 1, \n",
    "                     shuffle= True, \n",
    "                     num_workers= 4\n",
    ")"
   ]
  },
  {
   "cell_type": "code",
   "execution_count": null,
   "metadata": {},
   "outputs": [],
   "source": [
    "optimizer = th.optim.Adam(train_net.decoder.parameters(), lr= 0.001)"
   ]
  },
  {
   "cell_type": "code",
   "execution_count": null,
   "metadata": {},
   "outputs": [],
   "source": [
    "scheduler = th.optim.lr_scheduler.ReduceLROnPlateau(optimizer, mode= 'min', \n",
    "                                                    factor= 0.9, patience= 10, \n",
    "                                                    verbose= True, min_lr= 1e-4)"
   ]
  },
  {
   "cell_type": "code",
   "execution_count": null,
   "metadata": {},
   "outputs": [],
   "source": [
    "loss_fn = Decoder_Train_Loss().cuda()\n",
    "# loss_fn = nn.L1Loss(reduction= 'sum').cuda()"
   ]
  },
  {
   "cell_type": "code",
   "execution_count": null,
   "metadata": {},
   "outputs": [],
   "source": [
    "epochs = 3"
   ]
  },
  {
   "cell_type": "code",
   "execution_count": null,
   "metadata": {},
   "outputs": [],
   "source": [
    "now_epoch: int = 1"
   ]
  },
  {
   "cell_type": "code",
   "execution_count": null,
   "metadata": {},
   "outputs": [],
   "source": [
    "train_net.decoder.load_state_dict(th.load(r\"./pretrained_models\\decoder0.4.pth\"))"
   ]
  },
  {
   "cell_type": "code",
   "execution_count": null,
   "metadata": {},
   "outputs": [],
   "source": [
    "# writer = SummaryWriter(utils.get_logPath(r\"./logs\"))"
   ]
  },
  {
   "cell_type": "code",
   "execution_count": null,
   "metadata": {},
   "outputs": [],
   "source": [
    "len_of_dataset = dataset.__len__()"
   ]
  },
  {
   "cell_type": "code",
   "execution_count": null,
   "metadata": {},
   "outputs": [],
   "source": [
    "for _ in range(epochs): \n",
    "    loss_all = 0 \n",
    "    print(\"epoch: {:d}\".format(now_epoch))\n",
    "    for img in dataset:\n",
    "        img = img.cuda()\n",
    "        train_net(img)\n",
    "        \n",
    "        loss = loss_fn(train_net.dlist ,train_net.elist)\n",
    "        \n",
    "        loss_all += loss.item()\n",
    "\n",
    "        optimizer.zero_grad()\n",
    "        loss.backward()\n",
    "        optimizer.step()\n",
    "        \n",
    "    # scheduler.step(loss_all)\n",
    "    # writer.add_scalar(\"loss\", loss_all, now_epoch)\n",
    "    print(\"loss: \", loss_all / len_of_dataset)\n",
    "    now_epoch += 1"
   ]
  },
  {
   "cell_type": "code",
   "execution_count": null,
   "metadata": {},
   "outputs": [],
   "source": [
    "for name, parms in train_net.decoder.named_parameters():\n",
    "\tprint('-->name:', name, '--weight', th.mean(parms.data), ' -->grad_value:', th.mean(parms.grad))"
   ]
  },
  {
   "cell_type": "code",
   "execution_count": null,
   "metadata": {},
   "outputs": [],
   "source": [
    "for name, parms in train_net.decoder.named_parameters():\n",
    "    print(parms.grad)"
   ]
  },
  {
   "cell_type": "code",
   "execution_count": null,
   "metadata": {},
   "outputs": [],
   "source": [
    "for name, parms in train_net.named_parameters():\n",
    "    print('-->grads', parms.requires_grad)"
   ]
  },
  {
   "cell_type": "code",
   "execution_count": null,
   "metadata": {},
   "outputs": [],
   "source": [
    "tran = transforms.Compose([\n",
    "    transforms.ToTensor(), \n",
    "    transforms.Normalize(mean= [0.4, 0.4, 0.4], std= [0.2, 0.2, 0.2])\n",
    "])"
   ]
  },
  {
   "cell_type": "code",
   "execution_count": null,
   "metadata": {},
   "outputs": [],
   "source": [
    "img = Image.open(r\"data\\test\\Luana.png\").convert('RGB')\n",
    "img = tran(img)\n",
    "img = img.unsqueeze_(0).cuda()\n",
    "output = train_net(img)\n",
    "re_img = utils.img_transfer(output, (0.2, 0.2, 0.2), (0.4, 0.4, 0.4))"
   ]
  },
  {
   "cell_type": "code",
   "execution_count": null,
   "metadata": {},
   "outputs": [],
   "source": [
    "plt.figure('Image')\n",
    "plt.imshow(re_img)\n",
    "plt.axis('off')\n",
    "plt.title('Luana')\n",
    "plt.show()"
   ]
  },
  {
   "cell_type": "code",
   "execution_count": null,
   "metadata": {},
   "outputs": [],
   "source": [
    "th.save(train_net.decoder.state_dict(), r\"./pretrained_models/decoder0.4.pth\")"
   ]
  },
  {
   "cell_type": "code",
   "execution_count": null,
   "metadata": {},
   "outputs": [],
   "source": [
    "train_net.decoder.state_dict()"
   ]
  }
 ],
 "metadata": {
  "kernelspec": {
   "display_name": "Python 3.9.7 ('pytorch')",
   "language": "python",
   "name": "python3"
  },
  "language_info": {
   "codemirror_mode": {
    "name": "ipython",
    "version": 3
   },
   "file_extension": ".py",
   "mimetype": "text/x-python",
   "name": "python",
   "nbconvert_exporter": "python",
   "pygments_lexer": "ipython3",
   "version": "3.9.7"
  },
  "orig_nbformat": 4,
  "vscode": {
   "interpreter": {
    "hash": "ae51ee3d492f24e83e77a52eb34bf16365894f8747390aa8e17995579dedf394"
   }
  }
 },
 "nbformat": 4,
 "nbformat_minor": 2
}
