{
 "cells": [
  {
   "attachments": {},
   "cell_type": "markdown",
   "metadata": {},
   "source": [
    "导入包"
   ]
  },
  {
   "cell_type": "code",
   "execution_count": 1,
   "metadata": {},
   "outputs": [],
   "source": [
    "import torch as th \n",
    "th.backends.cudnn.benchmark = True"
   ]
  },
  {
   "cell_type": "code",
   "execution_count": 2,
   "metadata": {},
   "outputs": [],
   "source": [
    "from mainNet import Decoder_Train_Net\n",
    "\n",
    "train_net = Decoder_Train_Net(True).cuda()"
   ]
  },
  {
   "attachments": {},
   "cell_type": "markdown",
   "metadata": {},
   "source": [
    "加载数据"
   ]
  },
  {
   "cell_type": "code",
   "execution_count": 5,
   "metadata": {},
   "outputs": [],
   "source": [
    "from dataloader import ImageLoder\n",
    "from torch.utils.data import DataLoader\n",
    "\n",
    "dataset = DataLoader(dataset= ImageLoder(r\"./data\\train2014\", 3000, True, preload= True), \n",
    "                     batch_size= 4, \n",
    "                     shuffle= True, \n",
    "                     num_workers= 4\n",
    "                \n",
    ")"
   ]
  },
  {
   "cell_type": "code",
   "execution_count": null,
   "metadata": {},
   "outputs": [],
   "source": [
    "for i in dataset: \n",
    "    print(i)"
   ]
  },
  {
   "attachments": {},
   "cell_type": "markdown",
   "metadata": {},
   "source": [
    "加载优化器、训练调整器、损失函数"
   ]
  },
  {
   "cell_type": "code",
   "execution_count": 6,
   "metadata": {},
   "outputs": [],
   "source": [
    "optimizer = th.optim.Adam(train_net.decoder.parameters(), lr= 0.001)"
   ]
  },
  {
   "cell_type": "code",
   "execution_count": 7,
   "metadata": {},
   "outputs": [],
   "source": [
    "scheduler = th.optim.lr_scheduler.ReduceLROnPlateau(optimizer, mode= 'min', \n",
    "                                                    factor= 0.5, patience= 5, \n",
    "                                                    verbose= True, min_lr= 1e-4)"
   ]
  },
  {
   "cell_type": "code",
   "execution_count": 8,
   "metadata": {},
   "outputs": [],
   "source": [
    "from lossFunction import Decoder_Train_Loss\n",
    "\n",
    "loss_fn = Decoder_Train_Loss().cuda()"
   ]
  },
  {
   "attachments": {},
   "cell_type": "markdown",
   "metadata": {},
   "source": [
    "设置训练轮次，加载预训练解码器"
   ]
  },
  {
   "cell_type": "code",
   "execution_count": 9,
   "metadata": {},
   "outputs": [],
   "source": [
    "epochs = 20"
   ]
  },
  {
   "cell_type": "code",
   "execution_count": 10,
   "metadata": {},
   "outputs": [],
   "source": [
    "now_epoch= 1"
   ]
  },
  {
   "cell_type": "code",
   "execution_count": 3,
   "metadata": {},
   "outputs": [
    {
     "data": {
      "text/plain": [
       "<All keys matched successfully>"
      ]
     },
     "execution_count": 3,
     "metadata": {},
     "output_type": "execute_result"
    }
   ],
   "source": [
    "train_net.decoder.load_state_dict(th.load(r\"pretrained_models\\decoder1.4.pth\"))"
   ]
  },
  {
   "cell_type": "code",
   "execution_count": null,
   "metadata": {},
   "outputs": [],
   "source": [
    "# from torch.utils.tensorboard import SummaryWriter\n",
    "# writer = SummaryWriter(utils.get_logPath(r\"./logs\"))"
   ]
  },
  {
   "attachments": {},
   "cell_type": "markdown",
   "metadata": {},
   "source": [
    "训练"
   ]
  },
  {
   "cell_type": "code",
   "execution_count": 11,
   "metadata": {},
   "outputs": [],
   "source": [
    "sum = dataset.__len__()"
   ]
  },
  {
   "cell_type": "code",
   "execution_count": 12,
   "metadata": {},
   "outputs": [
    {
     "name": "stdout",
     "output_type": "stream",
     "text": [
      "epoch: 1\n",
      "loss:  4.901796392758687\n",
      "epoch: 2\n",
      "loss:  4.8165653670628865\n",
      "epoch: 3\n",
      "loss:  4.772576805432638\n",
      "epoch: 4\n",
      "loss:  4.745935479799907\n",
      "epoch: 5\n",
      "loss:  4.727469685236613\n",
      "epoch: 6\n",
      "loss:  4.70926829179128\n",
      "epoch: 7\n",
      "loss:  4.696146695454916\n",
      "epoch: 8\n",
      "loss:  4.678281217257182\n",
      "epoch: 9\n",
      "loss:  4.6687396742502845\n",
      "epoch: 10\n",
      "loss:  4.658064468383789\n",
      "epoch: 11\n",
      "loss:  4.651322841326396\n",
      "epoch: 12\n",
      "loss:  4.65137369632721\n",
      "epoch: 13\n"
     ]
    },
    {
     "ename": "KeyboardInterrupt",
     "evalue": "",
     "output_type": "error",
     "traceback": [
      "\u001b[1;31m---------------------------------------------------------------------------\u001b[0m",
      "\u001b[1;31mKeyboardInterrupt\u001b[0m                         Traceback (most recent call last)",
      "\u001b[1;32mC:\\WINDOWS\\TEMP/ipykernel_12736/2071233969.py\u001b[0m in \u001b[0;36m<module>\u001b[1;34m\u001b[0m\n\u001b[0;32m      4\u001b[0m     \u001b[0mprint\u001b[0m\u001b[1;33m(\u001b[0m\u001b[1;34m\"epoch: {:d}\"\u001b[0m\u001b[1;33m.\u001b[0m\u001b[0mformat\u001b[0m\u001b[1;33m(\u001b[0m\u001b[0mnow_epoch\u001b[0m\u001b[1;33m)\u001b[0m\u001b[1;33m)\u001b[0m\u001b[1;33m\u001b[0m\u001b[1;33m\u001b[0m\u001b[0m\n\u001b[0;32m      5\u001b[0m     \u001b[1;32mfor\u001b[0m \u001b[0mimg\u001b[0m \u001b[1;32min\u001b[0m \u001b[0mdataset\u001b[0m\u001b[1;33m:\u001b[0m\u001b[1;33m\u001b[0m\u001b[1;33m\u001b[0m\u001b[0m\n\u001b[1;32m----> 6\u001b[1;33m         \u001b[0mimg\u001b[0m \u001b[1;33m=\u001b[0m \u001b[0mimg\u001b[0m\u001b[1;33m.\u001b[0m\u001b[0mcuda\u001b[0m\u001b[1;33m(\u001b[0m\u001b[1;33m)\u001b[0m\u001b[1;33m\u001b[0m\u001b[1;33m\u001b[0m\u001b[0m\n\u001b[0m\u001b[0;32m      7\u001b[0m         \u001b[0mtrain_net\u001b[0m\u001b[1;33m(\u001b[0m\u001b[0mimg\u001b[0m\u001b[1;33m)\u001b[0m\u001b[1;33m\u001b[0m\u001b[1;33m\u001b[0m\u001b[0m\n\u001b[0;32m      8\u001b[0m \u001b[1;33m\u001b[0m\u001b[0m\n",
      "\u001b[1;31mKeyboardInterrupt\u001b[0m: "
     ]
    }
   ],
   "source": [
    "train_net.train()\n",
    "for _ in range(epochs): \n",
    "    loss_all = 0 \n",
    "    print(\"epoch: {:d}\".format(now_epoch))\n",
    "    for img in dataset:\n",
    "        img = img.cuda()\n",
    "        train_net(img)\n",
    "        \n",
    "        loss = loss_fn(train_net.dlist ,train_net.elist)\n",
    "        \n",
    "        loss_all += loss.item()\n",
    "\n",
    "        optimizer.zero_grad()\n",
    "        loss.backward()\n",
    "        optimizer.step()\n",
    "        \n",
    "    scheduler.step(loss_all)\n",
    "    # writer.add_scalar(\"loss\", loss_all, now_epoch)\n",
    "    print(\"loss: \", loss_all / sum)\n",
    "    now_epoch += 1"
   ]
  },
  {
   "attachments": {},
   "cell_type": "markdown",
   "metadata": {},
   "source": [
    "梯度检查"
   ]
  },
  {
   "cell_type": "code",
   "execution_count": 13,
   "metadata": {},
   "outputs": [
    {
     "name": "stdout",
     "output_type": "stream",
     "text": [
      "-->name: 0.1.weight --weight tensor(-0.0064, device='cuda:0')  -->grad_value: tensor(2.5648e-06, device='cuda:0')\n",
      "-->name: 0.1.bias --weight tensor(0.0787, device='cuda:0')  -->grad_value: tensor(6.8567e-06, device='cuda:0')\n",
      "-->name: 0.5.weight --weight tensor(-0.0066, device='cuda:0')  -->grad_value: tensor(2.6437e-05, device='cuda:0')\n",
      "-->name: 0.5.bias --weight tensor(-0.0165, device='cuda:0')  -->grad_value: tensor(5.5966e-05, device='cuda:0')\n",
      "-->name: 0.8.weight --weight tensor(-0.0067, device='cuda:0')  -->grad_value: tensor(5.7699e-07, device='cuda:0')\n",
      "-->name: 0.8.bias --weight tensor(-0.2214, device='cuda:0')  -->grad_value: tensor(1.2590e-05, device='cuda:0')\n",
      "-->name: 0.11.weight --weight tensor(-0.0201, device='cuda:0')  -->grad_value: tensor(-2.7111e-06, device='cuda:0')\n",
      "-->name: 0.11.bias --weight tensor(0.6034, device='cuda:0')  -->grad_value: tensor(-5.2102e-05, device='cuda:0')\n",
      "-->name: 1.1.weight --weight tensor(-0.0087, device='cuda:0')  -->grad_value: tensor(3.0807e-06, device='cuda:0')\n",
      "-->name: 1.1.bias --weight tensor(0.0212, device='cuda:0')  -->grad_value: tensor(5.7727e-06, device='cuda:0')\n",
      "-->name: 1.5.weight --weight tensor(-0.0078, device='cuda:0')  -->grad_value: tensor(7.4275e-06, device='cuda:0')\n",
      "-->name: 1.5.bias --weight tensor(-0.6049, device='cuda:0')  -->grad_value: tensor(2.8194e-05, device='cuda:0')\n",
      "-->name: 1.8.weight --weight tensor(-0.0379, device='cuda:0')  -->grad_value: tensor(-3.9798e-06, device='cuda:0')\n",
      "-->name: 1.8.bias --weight tensor(-0.3656, device='cuda:0')  -->grad_value: tensor(-4.4511e-05, device='cuda:0')\n",
      "-->name: 1.11.weight --weight tensor(-0.0203, device='cuda:0')  -->grad_value: tensor(4.0068e-06, device='cuda:0')\n",
      "-->name: 1.11.bias --weight tensor(0.6204, device='cuda:0')  -->grad_value: tensor(0.0002, device='cuda:0')\n",
      "-->name: 2.1.weight --weight tensor(-0.0106, device='cuda:0')  -->grad_value: tensor(6.8540e-05, device='cuda:0')\n",
      "-->name: 2.1.bias --weight tensor(0.0302, device='cuda:0')  -->grad_value: tensor(0.0001, device='cuda:0')\n",
      "-->name: 2.5.weight --weight tensor(-0.0016, device='cuda:0')  -->grad_value: tensor(1.2447e-05, device='cuda:0')\n",
      "-->name: 2.5.bias --weight tensor(0.1999, device='cuda:0')  -->grad_value: tensor(1.2082e-05, device='cuda:0')\n",
      "-->name: 3.1.weight --weight tensor(-0.0135, device='cuda:0')  -->grad_value: tensor(-9.9597e-05, device='cuda:0')\n",
      "-->name: 3.1.bias --weight tensor(-0.0260, device='cuda:0')  -->grad_value: tensor(-0.0003, device='cuda:0')\n",
      "-->name: 3.5.weight --weight tensor(-0.0030, device='cuda:0')  -->grad_value: tensor(-1.4057e-05, device='cuda:0')\n",
      "-->name: 3.5.bias --weight tensor(0.1293, device='cuda:0')  -->grad_value: tensor(0.0009, device='cuda:0')\n",
      "-->name: 4.1.weight --weight tensor(0.0033, device='cuda:0')  -->grad_value: tensor(0.0093, device='cuda:0')\n",
      "-->name: 4.1.bias --weight tensor(0.2874, device='cuda:0')  -->grad_value: tensor(0.0454, device='cuda:0')\n"
     ]
    }
   ],
   "source": [
    "for name, parms in train_net.decoder.named_parameters():\n",
    "\tprint('-->name:', name, '--weight', th.mean(parms.data), ' -->grad_value:', th.mean(parms.grad))"
   ]
  },
  {
   "attachments": {},
   "cell_type": "markdown",
   "metadata": {},
   "source": [
    "模型保存"
   ]
  },
  {
   "cell_type": "code",
   "execution_count": null,
   "metadata": {},
   "outputs": [],
   "source": [
    "th.save(train_net.decoder.state_dict(), r\"./pretrained_models/decoder1.5.pth\")"
   ]
  },
  {
   "attachments": {},
   "cell_type": "markdown",
   "metadata": {},
   "source": [
    "测试"
   ]
  },
  {
   "cell_type": "code",
   "execution_count": 14,
   "metadata": {},
   "outputs": [],
   "source": [
    "import utils\n",
    "import numpy as np\n",
    "img = utils.get_pilimg(r\"data\\test\\Lenna.png\")\n",
    "img_tensor = utils.pilimg2tensor(img, cuda= True)"
   ]
  },
  {
   "cell_type": "code",
   "execution_count": 15,
   "metadata": {},
   "outputs": [
    {
     "data": {
      "image/png": "[encoded data removed]",
      "text/plain": [
       "<Figure size 432x288 with 1 Axes>"
      ]
     },
     "metadata": {
      "needs_background": "light"
     },
     "output_type": "display_data"
    }
   ],
   "source": [
    "train_net.eval()\n",
    "output = train_net(img_tensor)\n",
    "r_img = utils.tensor2img(output)\n",
    "utils.img_display(r_img, 'test')"
   ]
  }
 ],
 "metadata": {
  "kernelspec": {
   "display_name": "Python 3.9.7 ('pytorch')",
   "language": "python",
   "name": "python3"
  },
  "language_info": {
   "codemirror_mode": {
    "name": "ipython",
    "version": 3
   },
   "file_extension": ".py",
   "mimetype": "text/x-python",
   "name": "python",
   "nbconvert_exporter": "python",
   "pygments_lexer": "ipython3",
   "version": "3.9.7"
  },
  "orig_nbformat": 4,
  "vscode": {
   "interpreter": {
    "hash": "ae51ee3d492f24e83e77a52eb34bf16365894f8747390aa8e17995579dedf394"
   }
  }
 },
 "nbformat": 4,
 "nbformat_minor": 2
}
